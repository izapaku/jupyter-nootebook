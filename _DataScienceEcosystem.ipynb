{
 "cells": [
  {
   "cell_type": "markdown",
   "id": "5d9d879b-0010-402b-aecc-aebd7da77ef2",
   "metadata": {},
   "source": [
    "\n",
    " \n",
    " <h1 align=\"center\"> Data Science Tools and Ecosystemn</h1>"
   ]
  },
  {
   "cell_type": "markdown",
   "id": "518b9914-ba06-483a-a8e6-603800f79499",
   "metadata": {},
   "source": [
    "In this notebook, Data Science Tools and Ecosystem are summarized."
   ]
  },
  {
   "cell_type": "markdown",
   "id": "6e42e559-c4a7-42f5-a0ed-2b5d636ec7e4",
   "metadata": {
    "tags": []
   },
   "source": [
    "__Objectives:__\n",
    "\n",
    " - popular languages using by Data Scientists\n",
    "\n",
    "- libraries often used by Data Scientists\n",
    "\n",
    " -  main open ource tools for data scientists\n",
    "\n",
    "\n"
   ]
  },
  {
   "cell_type": "markdown",
   "id": "d8ede824-aef8-4402-a154-09535e80e01c",
   "metadata": {
    "tags": []
   },
   "source": [
    " Some of the popular languages that Data Scientists use are:\n",
    "\n",
    "<ol>\n",
    "    <li> java </li>\n",
    "    <li> phyton </li>\n",
    "    <li> R </li>\n",
    "    <li> C++ </li>\n",
    "</ol>"
   ]
  },
  {
   "cell_type": "markdown",
   "id": "7e9cfc5a-fb01-435e-a8a2-5f3ffc3f5913",
   "metadata": {},
   "source": [
    "Some of the commonly used libraries used by Data Scientists include:\n",
    "\n",
    "<ol>\n",
    "    <li> NumPy </li>\n",
    "    <li>  Pandas </li>\n",
    "    <li> SeaBorn  </li>\n",
    "</ol>"
   ]
  },
  {
   "cell_type": "markdown",
   "id": "dc8f8d48-7d66-4ba8-8dcd-91aff9319d6b",
   "metadata": {},
   "source": [
    "| Data Science Tools |\n",
    "\n",
    "| Anaconda           | \n",
    "\n",
    "| Visual Studio Code |\n",
    "\n",
    "|Jupyter Notebooks   |\n"
   ]
  },
  {
   "cell_type": "markdown",
   "id": "380a7158-7186-4761-8040-a378f2add843",
   "metadata": {
    "tags": []
   },
   "source": [
    "<h3 align=\"center\">Below are a few examples of evaluating arithmetic expressions in Python</h3>;\n"
   ]
  },
  {
   "cell_type": "code",
   "execution_count": 12,
   "id": "494ce67a-c118-46f4-94fb-44ba35baecf2",
   "metadata": {
    "tags": []
   },
   "outputs": [
    {
     "data": {
      "text/plain": [
       "17"
      ]
     },
     "execution_count": 12,
     "metadata": {},
     "output_type": "execute_result"
    }
   ],
   "source": [
    "(3*4)+5\n",
    "\n",
    "#  This a simple arithmetic expression to mutiply then add integers"
   ]
  },
  {
   "cell_type": "code",
   "execution_count": 13,
   "id": "c3e34437-946f-4d24-a881-d5a028b44a59",
   "metadata": {
    "tags": []
   },
   "outputs": [
    {
     "data": {
      "text/plain": [
       "3.3333333333333335"
      ]
     },
     "execution_count": 13,
     "metadata": {},
     "output_type": "execute_result"
    }
   ],
   "source": [
    "200/60\n",
    "# This will convert 200 minutes to hours by diving by 60"
   ]
  },
  {
   "cell_type": "markdown",
   "id": "75fc233d-ae41-49bd-8eff-a85c58bac84b",
   "metadata": {
    "tags": []
   },
   "source": [
    "<h2 align=\"center\">Author</h2>\n",
    "Izabela Pakuszyńska"
   ]
  }
 ],
 "metadata": {
  "kernelspec": {
   "display_name": "Python",
   "language": "python",
   "name": "conda-env-python-py"
  },
  "language_info": {
   "codemirror_mode": {
    "name": "ipython",
    "version": 3
   },
   "file_extension": ".py",
   "mimetype": "text/x-python",
   "name": "python",
   "nbconvert_exporter": "python",
   "pygments_lexer": "ipython3",
   "version": "3.7.12"
  }
 },
 "nbformat": 4,
 "nbformat_minor": 5
}
